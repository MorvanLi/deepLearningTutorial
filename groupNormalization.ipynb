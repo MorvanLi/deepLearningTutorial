{
 "cells": [
  {
   "cell_type": "markdown",
   "id": "b5fbf54d",
   "metadata": {},
   "source": [
    "# Group Normalization解析"
   ]
  },
  {
   "cell_type": "markdown",
   "id": "919b4606",
   "metadata": {},
   "source": [
    "## group normalization"
   ]
  },
  {
   "cell_type": "markdown",
   "id": "75e59193",
   "metadata": {},
   "source": [
    "论文地址：https://arxiv.org/abs/1803.08494"
   ]
  },
  {
   "cell_type": "markdown",
   "id": "dabbcb77",
   "metadata": {},
   "source": [
    "在之前的文章中有介绍过[Batch Normalization](https://github.com/MorvanLi/deepLearningTutorial/blob/main/batchNormalization.ipynb)，以及[Layer Normalization](https://github.com/MorvanLi/deepLearningTutorial/blob/main/layerNormalization.ipynb)。今天来简单聊聊GN(Group Normalization)。在视觉领域，其实最常用的还是BN，但BN也有缺点，通常需要比较大的Batch Size。如下图所示，蓝色的线代表BN，当batch size小于16后error明显升高（但大于16后的效果确实要更好）。对于比较大型的网络或者GPU显存不够的情况下，通常无法设置较大的batch size，此时可以使用GN。如下图所示，batch size的大小对GN并没有影响，所以当**batch size设置较小时，可以采用GN**。"
   ]
  },
  {
   "cell_type": "markdown",
   "id": "4385774b",
   "metadata": {},
   "source": [
    "![jupyter](./images/groupNormalization_img1.png) "
   ]
  },
  {
   "cell_type": "markdown",
   "id": "683ef985",
   "metadata": {},
   "source": [
    "无论是BN、LN还是GN，公式都是一样的，都是减均值$E(x)$，除以标准差$\\sqrt{Var(x)+\\epsilon} $，其中$\\epsilon$是一个非常小的数字默认$10^{-5}$，是为了防止分母为零。以及两个可训练的参数$\\beta$,$\\gamma$。不同在于是在哪个/哪些维度上进行操作：\n",
    "$$y =\\frac{x-E(x)}{\\sqrt{Var(x)+\\epsilon } } $$\n",
    "对于GN(Group Normalization)的操作如下图所示，假设$num\\_groups=2$原论文中默认为32，由于和batch_size无关，我们直接看对于一个样本的情况。假设某层输出得到$x$，根据$num\\_groups$沿$channel$方向均分成$num\\_groups$份，然后对每一份求均值和方差，接着按照上面的公式进行计算即可，非常简单。"
   ]
  },
  {
   "cell_type": "markdown",
   "id": "5093a614",
   "metadata": {},
   "source": [
    "![jupyter](./images/groupNormalization_img2.png) "
   ]
  },
  {
   "cell_type": "markdown",
   "id": "9ab5c581",
   "metadata": {},
   "source": [
    "# pytorch实验"
   ]
  },
  {
   "cell_type": "code",
   "execution_count": 9,
   "id": "b8fa8447",
   "metadata": {},
   "outputs": [
    {
     "name": "stdout",
     "output_type": "stream",
     "text": [
      "原始数据: \n",
      " tensor([[[[0.4963, 0.7682],\n",
      "          [0.0885, 0.1320]],\n",
      "\n",
      "         [[0.3074, 0.6341],\n",
      "          [0.4901, 0.8964]],\n",
      "\n",
      "         [[0.4556, 0.6323],\n",
      "          [0.3489, 0.4017]],\n",
      "\n",
      "         [[0.0223, 0.1689],\n",
      "          [0.2939, 0.5185]]],\n",
      "\n",
      "\n",
      "        [[[0.6977, 0.8000],\n",
      "          [0.1610, 0.2823]],\n",
      "\n",
      "         [[0.6816, 0.9152],\n",
      "          [0.3971, 0.8742]],\n",
      "\n",
      "         [[0.4194, 0.5529],\n",
      "          [0.9527, 0.0362]],\n",
      "\n",
      "         [[0.1852, 0.3734],\n",
      "          [0.3051, 0.9320]]]])\n",
      "官方结果: \n",
      " tensor([[[[ 0.0726,  1.0785],\n",
      "          [-1.4357, -1.2746]],\n",
      "\n",
      "         [[-0.6259,  0.5824],\n",
      "          [ 0.0498,  1.5528]],\n",
      "\n",
      "         [[ 0.5513,  1.5218],\n",
      "          [-0.0350,  0.2552]],\n",
      "\n",
      "         [[-1.8289, -1.0240],\n",
      "          [-0.3372,  0.8968]]],\n",
      "\n",
      "\n",
      "        [[[ 0.3631,  0.7480],\n",
      "          [-1.6552, -1.1992]],\n",
      "\n",
      "         [[ 0.3027,  1.1812],\n",
      "          [-0.7673,  1.0268]],\n",
      "\n",
      "         [[-0.1627,  0.2699],\n",
      "          [ 1.5656, -1.4046]],\n",
      "\n",
      "         [[-0.9216, -0.3118],\n",
      "          [-0.5331,  1.4984]]]], grad_fn=<NativeGroupNormBackward>)\n",
      "实验结果: \n",
      " tensor([[[[ 0.0726,  1.0785],\n",
      "          [-1.4357, -1.2746]],\n",
      "\n",
      "         [[-0.6259,  0.5824],\n",
      "          [ 0.0498,  1.5528]],\n",
      "\n",
      "         [[ 0.5513,  1.5218],\n",
      "          [-0.0350,  0.2552]],\n",
      "\n",
      "         [[-1.8289, -1.0240],\n",
      "          [-0.3372,  0.8968]]],\n",
      "\n",
      "\n",
      "        [[[ 0.3631,  0.7480],\n",
      "          [-1.6552, -1.1992]],\n",
      "\n",
      "         [[ 0.3027,  1.1812],\n",
      "          [-0.7673,  1.0268]],\n",
      "\n",
      "         [[-0.1627,  0.2699],\n",
      "          [ 1.5656, -1.4046]],\n",
      "\n",
      "         [[-0.9216, -0.3118],\n",
      "          [-0.5331,  1.4984]]]])\n"
     ]
    }
   ],
   "source": [
    "import torch\n",
    "import torch.nn as nn\n",
    "\n",
    "\n",
    "def group_norm(x: torch.Tensor,\n",
    "               num_groups: int,\n",
    "               num_channels: int,\n",
    "               eps: float = 1e-5,\n",
    "               gamma: float = 1.0,\n",
    "               beta: float = 0.):\n",
    "    # divmod(a,b)方法返回的是a/b（取整）以及a对b的余数\n",
    "    assert divmod(num_channels, num_groups)[1] == 0\n",
    "    channels_per_group = num_channels // num_groups\n",
    "\n",
    "    new_tensor = []\n",
    "    for t in x.split(channels_per_group, dim=1):\n",
    "        var_mean = torch.var_mean(t, dim=[1, 2, 3], unbiased=False)\n",
    "        var = var_mean[0]\n",
    "        mean = var_mean[1]\n",
    "        t = (t - mean[:, None, None, None]) / torch.sqrt(var[:, None, None, None] + eps)\n",
    "        t = t * gamma + beta\n",
    "        new_tensor.append(t)\n",
    "\n",
    "    new_tensor = torch.cat(new_tensor, dim=1)\n",
    "    return new_tensor\n",
    "\n",
    "\n",
    "torch.manual_seed(0)\n",
    "num_groups = 2\n",
    "num_channels = 4\n",
    "eps = 1e-5\n",
    "\n",
    "img = torch.rand(2, num_channels, 2, 2)\n",
    "print(f\"原始数据: \\n {img}\")\n",
    "\n",
    "gn = nn.GroupNorm(num_groups=num_groups, num_channels=num_channels, eps=eps)\n",
    "r1 = gn(img)\n",
    "print(f\"官方结果: \\n {r1}\")\n",
    "\n",
    "r2 = group_norm(img, num_groups, num_channels, eps)\n",
    "print(f\"实验结果: \\n {r2}\")\n"
   ]
  },
  {
   "cell_type": "code",
   "execution_count": null,
   "id": "43bd11a5",
   "metadata": {},
   "outputs": [],
   "source": []
  }
 ],
 "metadata": {
  "kernelspec": {
   "display_name": "Python 3",
   "language": "python",
   "name": "python3"
  },
  "language_info": {
   "codemirror_mode": {
    "name": "ipython",
    "version": 3
   },
   "file_extension": ".py",
   "mimetype": "text/x-python",
   "name": "python",
   "nbconvert_exporter": "python",
   "pygments_lexer": "ipython3",
   "version": "3.6.9"
  },
  "toc": {
   "base_numbering": 1,
   "nav_menu": {},
   "number_sections": true,
   "sideBar": true,
   "skip_h1_title": false,
   "title_cell": "Table of Contents",
   "title_sidebar": "Contents",
   "toc_cell": false,
   "toc_position": {},
   "toc_section_display": true,
   "toc_window_display": false
  }
 },
 "nbformat": 4,
 "nbformat_minor": 5
}
