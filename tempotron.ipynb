{
 "cells": [
  {
   "cell_type": "markdown",
   "id": "f8c2fb8b",
   "metadata": {},
   "source": [
    "## 膜电压计算\n",
    "\n",
    "$$V(t)=\\sum_{i}^{}w_{i} \\sum_{t_{i}}^{}K(t-t_{i})+V_{rest}　\\tag{1}$$\n",
    "\n",
    "##  $t_{max}$\n",
    "$$t_{max} =\\frac{ (\\tau  * \\tau_{s} * log(\\frac{\\tau}{\\tau_{s}}  ))}{ (\\tau - \\tau_{s})} \\tag{2}$$\n",
    "\n",
    "$$V(t) =\\sum_{i}^{}w_{i}\\sum_{t_{i}}^{}V_{0}(\\exp[-(t-t_{i})/\\tau ] - \\exp [-(t-t_{i})/\\tau_{s}] ) \\tag{2.1}$$"
   ]
  },
  {
   "cell_type": "code",
   "execution_count": null,
   "id": "375f90e3",
   "metadata": {},
   "outputs": [],
   "source": []
  }
 ],
 "metadata": {
  "kernelspec": {
   "display_name": "Python 3",
   "language": "python",
   "name": "python3"
  },
  "language_info": {
   "codemirror_mode": {
    "name": "ipython",
    "version": 3
   },
   "file_extension": ".py",
   "mimetype": "text/x-python",
   "name": "python",
   "nbconvert_exporter": "python",
   "pygments_lexer": "ipython3",
   "version": "3.6.9"
  },
  "toc": {
   "base_numbering": 1,
   "nav_menu": {},
   "number_sections": true,
   "sideBar": true,
   "skip_h1_title": false,
   "title_cell": "Table of Contents",
   "title_sidebar": "Contents",
   "toc_cell": false,
   "toc_position": {},
   "toc_section_display": true,
   "toc_window_display": false
  }
 },
 "nbformat": 4,
 "nbformat_minor": 5
}
