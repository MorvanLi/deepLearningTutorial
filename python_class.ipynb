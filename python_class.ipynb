{
 "cells": [
  {
   "cell_type": "markdown",
   "id": "ba5904d9",
   "metadata": {},
   "source": [
    "# 类基础"
   ]
  },
  {
   "cell_type": "markdown",
   "id": "7a8ba0bd",
   "metadata": {},
   "source": [
    "## 什么是面向对象编程\n",
    "\n",
    "1. 面向对象编程(oop)是一种程序设计思想。oop把对象作为程序的基本单元，一个对象包含数据和操作数据的函数\n",
    "2. 在python中，所有数据类型都被视为对象，也可以自定义对象。自定义对象数据类型就是面向对象中类的概念"
   ]
  },
  {
   "cell_type": "markdown",
   "id": "f2d8034d",
   "metadata": {},
   "source": [
    "## 面向对象术语简介\n",
    "1. **类(Class):** 用来描述具有相同的属性和方法的对象的集合。它定义了该集合中每个对象所共有的属性和方法。对象是类的实例\n",
    "2. **方法：** 类中定义的函数\n",
    "3. **类变量(属性)：** 类变量在整个实例化的对象中是公用的。类变量定义在类中且在函数体(方法)之外。类变量通常不作为实例变量使用，类变量也称作属性\n",
    "4. **数据成员：** 类变量或者实例变量用于处理类及其实例对象的相关的数据\n",
    "5. **方法重写：** 如果从父类继承的方法不能满足子类的需求，可以对其进行改写，这个过程叫方法的覆盖（override），也称为方法的重写\n",
    "6. **实例变量：** 定义在__init__方法中的变量，只作用于当前实例的类\n",
    "7. **继承：** 即一个派生类(derived class)继承基类(base class)的字段和方法。继承也允许把一个派生类的对象作为一个基类对象对待,以普通的类为基础建立专门的类对象\n",
    "8. **实例化：** 创建一个类的实例，类的具体对象。一个类可以实例化出无数个对象\n",
    "9. **对象：** 通过类定义的数据结构实例。对象包括两个数据成员(类变量和实例变量)和方法\n",
    "10. **多态：** 对不同类的对象使用同样的操作\n",
    "11. **封装：** 对外部世界隐藏对象的工作细节"
   ]
  },
  {
   "cell_type": "markdown",
   "id": "c3f2bbb6",
   "metadata": {},
   "source": [
    "## Python类\n",
    "1. 提供了一种<font color=red>组合数据和功能</font>的方法。创建一个新类意味着创建一个新的对象类型，从而允许创建一个该类型的新实例\n",
    "\n",
    "2. 每个类的实例可以拥有保存自己状态的属性。一个类的实例也可以有改变自己状态的（定义在类中的）方法\n",
    "\n",
    "3. python的类提供了面向对象编程的所有标准特性：\n",
    "    - 承机制允许多个基类，派生类可以覆盖它基类的任何方法，一个方法可以调用基类中相同名称的的方法\n",
    "    - 对象可以包含任意数量和类型的数据\n",
    "    - 模块一样，类也拥有Python天然的动态特性：它们在运行时创建，可以在创建后修改\n"
   ]
  },
  {
   "cell_type": "markdown",
   "id": "ee8dfb2a",
   "metadata": {},
   "source": [
    "## <font color=red>Python类的定义</font>"
   ]
  },
  {
   "cell_type": "markdown",
   "id": "08c13e6c",
   "metadata": {},
   "source": [
    "1. python中定义类使用<font color=red>class</font>关键字，class后面紧接类名，类名通常是大写开头的单词(无类继承时类名后可以加括号也可以不加括号)\n",
    "2. python中类的定义语法如下："
   ]
  },
  {
   "cell_type": "code",
   "execution_count": 22,
   "id": "2f27cc2a",
   "metadata": {},
   "outputs": [],
   "source": [
    "class ClassName:\n",
    "    pass"
   ]
  },
  {
   "cell_type": "code",
   "execution_count": null,
   "id": "701a8eff",
   "metadata": {},
   "outputs": [],
   "source": []
  }
 ],
 "metadata": {
  "kernelspec": {
   "display_name": "Python 3",
   "language": "python",
   "name": "python3"
  },
  "language_info": {
   "codemirror_mode": {
    "name": "ipython",
    "version": 3
   },
   "file_extension": ".py",
   "mimetype": "text/x-python",
   "name": "python",
   "nbconvert_exporter": "python",
   "pygments_lexer": "ipython3",
   "version": "3.6.9"
  },
  "toc": {
   "base_numbering": 1,
   "nav_menu": {},
   "number_sections": true,
   "sideBar": true,
   "skip_h1_title": false,
   "title_cell": "Table of Contents",
   "title_sidebar": "Contents",
   "toc_cell": false,
   "toc_position": {},
   "toc_section_display": true,
   "toc_window_display": false
  }
 },
 "nbformat": 4,
 "nbformat_minor": 5
}
